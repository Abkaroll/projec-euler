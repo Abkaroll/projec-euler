{
 "cells": [
  {
   "cell_type": "code",
   "execution_count": 10,
   "metadata": {},
   "outputs": [
    {
     "name": "stdout",
     "output_type": "stream",
     "text": [
      "31875000\n",
      "200\n",
      "375\n",
      "425\n",
      "31875000\n",
      "375\n",
      "200\n",
      "425\n"
     ]
    }
   ],
   "source": [
    "for a in range (1,1000):\n",
    "    for b in range (1,1000):\n",
    "        c = 1000-a-b\n",
    "        if a**2 + b**2 == c**2:\n",
    "            print(a*b*c)\n",
    "            print(a)\n",
    "            print(b)\n",
    "            print(c)"
   ]
  }
 ],
 "metadata": {
  "kernelspec": {
   "display_name": "Python 3",
   "language": "python",
   "name": "python3"
  },
  "language_info": {
   "codemirror_mode": {
    "name": "ipython",
    "version": 3
   },
   "file_extension": ".py",
   "mimetype": "text/x-python",
   "name": "python",
   "nbconvert_exporter": "python",
   "pygments_lexer": "ipython3",
   "version": "3.7.3"
  }
 },
 "nbformat": 4,
 "nbformat_minor": 2
}
