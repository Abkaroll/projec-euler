{
 "cells": [
  {
   "cell_type": "code",
   "execution_count": 25,
   "metadata": {},
   "outputs": [
    {
     "data": {
      "text/plain": [
       "False"
      ]
     },
     "execution_count": 25,
     "metadata": {},
     "output_type": "execute_result"
    }
   ],
   "source": [
    "def isprime(n):\n",
    "    count = 0\n",
    "    for i in range(2, n):\n",
    "        if n%i == 0:\n",
    "            return False\n",
    "            break\n",
    "        else:\n",
    "            count += 1\n",
    "    if count == n-2:\n",
    "        return True\n",
    "isprime(10)"
   ]
  },
  {
   "cell_type": "code",
   "execution_count": 34,
   "metadata": {},
   "outputs": [
    {
     "data": {
      "text/plain": [
       "11"
      ]
     },
     "execution_count": 34,
     "metadata": {},
     "output_type": "execute_result"
    }
   ],
   "source": [
    "def sumprime(n):\n",
    "    count = 0\n",
    "    sum = 0\n",
    "    for i in range(2, n):\n",
    "        prime = True\n",
    "        if n%i == 0:\n",
    "            prime = False\n",
    "        else:\n",
    "            count += 1\n",
    "        if count == n-2:\n",
    "            sum += n\n",
    "            return sum\n",
    "\n",
    "sumprime(11)\n"
   ]
  },
  {
   "cell_type": "code",
   "execution_count": 47,
   "metadata": {},
   "outputs": [
    {
     "data": {
      "text/plain": [
       "142913828922"
      ]
     },
     "execution_count": 47,
     "metadata": {},
     "output_type": "execute_result"
    }
   ],
   "source": [
    "def isprime(n):\n",
    "    count = 0\n",
    "    for i in range(2, n):\n",
    "        if n%i == 0:\n",
    "            return False\n",
    "            break\n",
    "        else:\n",
    "            count += 1\n",
    "    if count == n-2:\n",
    "        return True\n",
    "\n",
    "def sumprime(n):\n",
    "    sum = 0\n",
    "    for i in range(2, n):\n",
    "        if isprime(i):\n",
    "            sum += i\n",
    "    return sum\n",
    "\n",
    "sumprime(2000000)"
   ]
  },
  {
   "cell_type": "code",
   "execution_count": null,
   "metadata": {},
   "outputs": [],
   "source": []
  }
 ],
 "metadata": {
  "kernelspec": {
   "display_name": "Python 3",
   "language": "python",
   "name": "python3"
  },
  "language_info": {
   "codemirror_mode": {
    "name": "ipython",
    "version": 3
   },
   "file_extension": ".py",
   "mimetype": "text/x-python",
   "name": "python",
   "nbconvert_exporter": "python",
   "pygments_lexer": "ipython3",
   "version": "3.7.3"
  }
 },
 "nbformat": 4,
 "nbformat_minor": 2
}
