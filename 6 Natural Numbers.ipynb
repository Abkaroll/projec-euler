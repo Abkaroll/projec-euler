{
 "cells": [
  {
   "cell_type": "code",
   "execution_count": 24,
   "metadata": {},
   "outputs": [
    {
     "data": {
      "text/plain": [
       "25164150"
      ]
     },
     "execution_count": 24,
     "metadata": {},
     "output_type": "execute_result"
    }
   ],
   "source": [
    "def difference(x):\n",
    "    diff = squares(x) - sums(x)\n",
    "    return diff\n",
    "\n",
    "def squares(x):\n",
    "    i = range(x)\n",
    "    y = sum(i)\n",
    "    z = y**2\n",
    "    return z\n",
    "\n",
    "def sums(x):\n",
    "    i = []\n",
    "    for y in range (x):\n",
    "        i.append(y**2)\n",
    "    return sum(i)\n",
    "\n",
    "\n",
    "difference(101)"
   ]
  },
  {
   "cell_type": "code",
   "execution_count": 11,
   "metadata": {},
   "outputs": [
    {
     "name": "stdout",
     "output_type": "stream",
     "text": [
      "debug: the message is: Hello, Cruel World\n"
     ]
    },
    {
     "data": {
      "text/plain": [
       "'Hello, Cruel World'"
      ]
     },
     "execution_count": 11,
     "metadata": {},
     "output_type": "execute_result"
    }
   ],
   "source": [
    "def greet(name):\n",
    "    message = \"Hello, \" + name\n",
    "    print(\"debug: the message is:\", message)\n",
    "    return message\n",
    "\n",
    "greet(\"Cruel World\")"
   ]
  },
  {
   "cell_type": "code",
   "execution_count": 17,
   "metadata": {},
   "outputs": [
    {
     "data": {
      "text/plain": [
       "7748"
      ]
     },
     "execution_count": 17,
     "metadata": {},
     "output_type": "execute_result"
    }
   ],
   "source": [
    "def squares(x):\n",
    "    i = range(x)\n",
    "    y = sum(i)\n",
    "    z = y^2\n",
    "    return z\n",
    "\n",
    "squares(125)"
   ]
  },
  {
   "cell_type": "code",
   "execution_count": 21,
   "metadata": {},
   "outputs": [
    {
     "data": {
      "text/plain": [
       "328350"
      ]
     },
     "execution_count": 21,
     "metadata": {},
     "output_type": "execute_result"
    }
   ],
   "source": [
    "def sums(x):\n",
    "    i = []\n",
    "    for y in range (x):\n",
    "        i.append(y**2)\n",
    "    return sum(i)\n",
    "\n",
    "sums(100)"
   ]
  }
 ],
 "metadata": {
  "kernelspec": {
   "display_name": "Python 3",
   "language": "python",
   "name": "python3"
  },
  "language_info": {
   "codemirror_mode": {
    "name": "ipython",
    "version": 3
   },
   "file_extension": ".py",
   "mimetype": "text/x-python",
   "name": "python",
   "nbconvert_exporter": "python",
   "pygments_lexer": "ipython3",
   "version": "3.6.5"
  }
 },
 "nbformat": 4,
 "nbformat_minor": 2
}
