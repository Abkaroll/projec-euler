{
 "cells": [
  {
   "cell_type": "code",
   "execution_count": 13,
   "metadata": {},
   "outputs": [
    {
     "name": "stdout",
     "output_type": "stream",
     "text": [
      "76576500.0\n"
     ]
    }
   ],
   "source": [
    "def num_divisors(n):\n",
    "    if n % 2 == 0: n = n/2\n",
    "    divisors = 1\n",
    "    count = 0\n",
    "    while n % 2 == 0:\n",
    "        count += 1\n",
    "        n = n/2\n",
    "    divisors = divisors * (count + 1)\n",
    "    p = 3\n",
    "    while n != 1:\n",
    "        count = 0\n",
    "        while n % p == 0:\n",
    "            count += 1\n",
    "            n = n/p\n",
    "        divisors = divisors * (count + 1)\n",
    "        p += 2\n",
    "    return divisors\n",
    " \n",
    "def find_triangular_index(factor_limit):\n",
    "    n = 1\n",
    "    lnum, rnum = num_divisors(n), num_divisors(n+1)\n",
    "    while lnum * rnum < 500:\n",
    "        n += 1\n",
    "        lnum, rnum = rnum, num_divisors(n+1)\n",
    "    return n\n",
    " \n",
    "index = find_triangular_index(500)\n",
    "triangle = (index * (index + 1)) / 2\n",
    "\n",
    " \n",
    "print(triangle)"
   ]
  }
 ],
 "metadata": {
  "kernelspec": {
   "display_name": "Python 3",
   "language": "python",
   "name": "python3"
  },
  "language_info": {
   "codemirror_mode": {
    "name": "ipython",
    "version": 3
   },
   "file_extension": ".py",
   "mimetype": "text/x-python",
   "name": "python",
   "nbconvert_exporter": "python",
   "pygments_lexer": "ipython3",
   "version": "3.7.3"
  }
 },
 "nbformat": 4,
 "nbformat_minor": 2
}
