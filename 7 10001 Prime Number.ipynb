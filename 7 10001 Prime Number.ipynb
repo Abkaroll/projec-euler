{
 "cells": [
  {
   "cell_type": "code",
   "execution_count": 2,
   "metadata": {},
   "outputs": [],
   "source": [
    "def prime(num):\n",
    "    if num > 1:\n",
    "        for i in range (2,num):\n",
    "            if (num % 1) != 0:\n",
    "                return i\n",
    "\n",
    "prime(100)"
   ]
  },
  {
   "cell_type": "code",
   "execution_count": 6,
   "metadata": {},
   "outputs": [
    {
     "data": {
      "text/plain": [
       "104743"
      ]
     },
     "execution_count": 6,
     "metadata": {},
     "output_type": "execute_result"
    }
   ],
   "source": [
    "def isprime(n):\n",
    "    count = 0\n",
    "    for i in range(2, n):\n",
    "        if n%i == 0:\n",
    "            return False\n",
    "            break\n",
    "        else:\n",
    "            count += 1\n",
    "    if count == n-2:\n",
    "        return True\n",
    "        \n",
    "\n",
    "def nthprime(x):\n",
    "    numprimes = 0\n",
    "    check = 2\n",
    "    primes = []\n",
    "    while numprimes < x:\n",
    "        check += 1\n",
    "        if isprime(check):\n",
    "            numprimes += 1\n",
    "            primes.append(check)\n",
    "    return primes\n",
    "\n",
    "max(nthprime(10000))"
   ]
  },
  {
   "cell_type": "code",
   "execution_count": 2,
   "metadata": {},
   "outputs": [
    {
     "data": {
      "text/plain": [
       "104743"
      ]
     },
     "execution_count": 2,
     "metadata": {},
     "output_type": "execute_result"
    }
   ],
   "source": [
    "def isprime(n):\n",
    "    count = 0\n",
    "    for i in range(2, n):\n",
    "        if n%i == 0:\n",
    "            return False\n",
    "            break\n",
    "        else:\n",
    "            count += 1\n",
    "    if count == n-2:\n",
    "        return True\n",
    "\n",
    "def nthprime(n):\n",
    "    x = 0\n",
    "    count = 0\n",
    "    while count != n:\n",
    "        x += 1\n",
    "        if isprime(x) == True:\n",
    "            count += 1\n",
    "    return x\n",
    "\n",
    "\n",
    "nthprime(10001)"
   ]
  },
  {
   "cell_type": "code",
   "execution_count": 24,
   "metadata": {},
   "outputs": [
    {
     "name": "stdout",
     "output_type": "stream",
     "text": [
      "This number isn't prime\n"
     ]
    },
    {
     "data": {
      "text/plain": [
       "False"
      ]
     },
     "execution_count": 24,
     "metadata": {},
     "output_type": "execute_result"
    }
   ],
   "source": [
    "def isprime(x):\n",
    "    count = 0\n",
    "    for i in range(2,x):\n",
    "        if x%i == 0:\n",
    "            print(\"This number isn't prime\")\n",
    "            return False\n",
    "            break\n",
    "        else:\n",
    "            count += 1\n",
    "    if count == x-2:\n",
    "        print(\"This number is prime\")\n",
    "        return True\n",
    "\n",
    "isprime(52)"
   ]
  }
 ],
 "metadata": {
  "kernelspec": {
   "display_name": "Python 3",
   "language": "python",
   "name": "python3"
  },
  "language_info": {
   "codemirror_mode": {
    "name": "ipython",
    "version": 3
   },
   "file_extension": ".py",
   "mimetype": "text/x-python",
   "name": "python",
   "nbconvert_exporter": "python",
   "pygments_lexer": "ipython3",
   "version": "3.7.3"
  }
 },
 "nbformat": 4,
 "nbformat_minor": 2
}
